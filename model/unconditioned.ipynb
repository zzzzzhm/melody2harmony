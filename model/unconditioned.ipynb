{
 "cells": [
  {
   "cell_type": "code",
   "execution_count": 70,
   "id": "7772dfc2-3973-4ef6-81bb-254f3c4365b4",
   "metadata": {},
   "outputs": [],
   "source": [
    "from music21 import converter, note, harmony, stream,meter, key\n",
    "from glob import glob\n",
    "from collections import defaultdict\n",
    "import random\n",
    "import torch\n",
    "import torch.nn as nn\n",
    "import math\n",
    "from miditok import REMI, TokenizerConfig\n",
    "from symusic import Score\n",
    "from torch.utils.data import Dataset\n",
    "import torch\n",
    "import os\n",
    "import matplotlib.pyplot as plt\n",
    "import numpy as np\n",
    "from torch.utils.data import DataLoader\n",
    "from tqdm import tqdm\n",
    "import torch.nn.functional as F\n",
    "from miditok import TokSequence\n",
    "from torch.optim.lr_scheduler import CosineAnnealingLR"
   ]
  },
  {
   "cell_type": "code",
   "execution_count": 35,
   "id": "1fad7332-4b81-4685-ac6f-61687fe073f1",
   "metadata": {},
   "outputs": [
    {
     "data": {
      "text/plain": [
       "14"
      ]
     },
     "execution_count": 35,
     "metadata": {},
     "output_type": "execute_result"
    }
   ],
   "source": [
    "abc_files = glob('./nottingham-dataset-master/ABC_cleaned/*.abc')\n",
    "len(abc_files)"
   ]
  },
  {
   "cell_type": "code",
   "execution_count": 114,
   "id": "40392cce-4e47-4510-9a7d-c41223b16cc7",
   "metadata": {},
   "outputs": [],
   "source": [
    "def extract_separate_tokens(score):\n",
    "    chords = []\n",
    "    pitches = []\n",
    "    durations = []\n",
    "    current_chord = \"N\"  \n",
    "\n",
    "    #M = str(score.recurse().getElementsByClass(meter.TimeSignature).first())\n",
    "    ts = score.recurse().getElementsByClass(meter.TimeSignature).first()\n",
    "    M = ts.ratioString \n",
    "    K = str(score.recurse().getElementsByClass(key.KeySignature).first())\n",
    "\n",
    "    \n",
    "\n",
    "    for el in score.flatten().notesAndRests:\n",
    "        if isinstance(el, note.Note):\n",
    "            pitches.append(el.nameWithOctave)\n",
    "            durations.append(round(el.quarterLength, 2))\n",
    "            chords.append(current_chord)\n",
    "        elif isinstance(el, note.Rest):\n",
    "            pitches.append(\"Rest\")\n",
    "            durations.append(round(el.quarterLength, 2))\n",
    "            chords.append(current_chord)\n",
    "        elif isinstance(el, harmony.ChordSymbol):\n",
    "            current_chord = el.figure\n",
    "\n",
    "    return chords, pitches, durations, M, K"
   ]
  },
  {
   "cell_type": "markdown",
   "id": "04a15a6e-f22b-4663-9429-68c426aca7d1",
   "metadata": {},
   "source": [
    "### baseline(Markov)"
   ]
  },
  {
   "cell_type": "code",
   "execution_count": 115,
   "id": "6e5cc058-a363-448d-983e-fc906842822b",
   "metadata": {},
   "outputs": [],
   "source": [
    "def num_count(item,items_count):\n",
    "    if item not in items_count:\n",
    "        items_count[item] = 1\n",
    "    else:\n",
    "        items_count[item] += 1\n",
    "    return items_count"
   ]
  },
  {
   "cell_type": "code",
   "execution_count": 116,
   "id": "6ab8cfba-2b67-4007-9618-56e108999916",
   "metadata": {},
   "outputs": [],
   "source": [
    "def unigram_probability(items_count):\n",
    "    unigramProbabilities = {}\n",
    "    \n",
    "    total = sum(items_count.values())\n",
    "    for item, value in items_count.items():\n",
    "        unigramProbabilities[item] = value / total\n",
    "        \n",
    "    \n",
    "    return unigramProbabilities"
   ]
  },
  {
   "cell_type": "code",
   "execution_count": 117,
   "id": "e01e323d-0fe8-4662-8594-4d50e94171ca",
   "metadata": {},
   "outputs": [],
   "source": [
    "def bigram(prios, posts,bi):\n",
    "    for prio, post in zip(prios, posts):\n",
    "        bi[(prio,post)] += 1\n",
    "\n",
    "    return bi"
   ]
  },
  {
   "cell_type": "code",
   "execution_count": 118,
   "id": "fdfcadf0-3867-45f6-ab94-4598d1bae663",
   "metadata": {},
   "outputs": [],
   "source": [
    "def trigram(prios1,prios2, posts,tri):\n",
    "    for prio1,prio2, post in zip(prios1,prios2, posts):\n",
    "        tri[(prio1,prio2, post)] += 1\n",
    "\n",
    "    return tri"
   ]
  },
  {
   "cell_type": "code",
   "execution_count": 119,
   "id": "1fe191cf-4dd1-4146-97f9-291ea25d5171",
   "metadata": {},
   "outputs": [],
   "source": [
    "def cal_bigram_Probability(bigrams):\n",
    "    temp_counts = defaultdict(list)\n",
    "    bigramTransitions = defaultdict(list)\n",
    "    bigramTransitionProbabilities = defaultdict(list)\n",
    "    for item, value in bigrams.items():\n",
    "        bigramTransitions[item[0]].append(item[1])\n",
    "        temp_counts[item[0]].append(value)\n",
    "    \n",
    "    for item, counts in temp_counts.items():\n",
    "        bigramTransitionProbabilities[item] = [i/sum(counts) for i in counts]\n",
    "    \n",
    "    return bigramTransitions, bigramTransitionProbabilities\n",
    "    "
   ]
  },
  {
   "cell_type": "code",
   "execution_count": 120,
   "id": "f712dab4-1f38-472b-90c2-eb6f4d92a3bc",
   "metadata": {},
   "outputs": [],
   "source": [
    "def cal_trigram_Probability(trigrams):\n",
    "    trigramTransitions = defaultdict(list)\n",
    "    trigramTransitionProbabilities = defaultdict(list)\n",
    "    temp_counts = defaultdict(list)\n",
    "    for item, value in trigrams.items():\n",
    "        trigramTransitions[(item[0],item[1])].append(item[2])\n",
    "        temp_counts[(item[0],item[1])].append(value)\n",
    "    \n",
    "    for item, counts in temp_counts.items():\n",
    "        trigramTransitionProbabilities[item] = [i/sum(counts) for i in counts]\n",
    "    \n",
    "    return trigramTransitions, trigramTransitionProbabilities"
   ]
  },
  {
   "cell_type": "code",
   "execution_count": 121,
   "id": "a54772d9-bbfe-4c27-a8ac-5ab1997bd1f1",
   "metadata": {},
   "outputs": [],
   "source": [
    "def buildTransitionProbabilities(abc_files):\n",
    "    chords_count = {}\n",
    "    meters_count  = {}\n",
    "    keys_count = {}\n",
    "    chord_bigrams = defaultdict(int)\n",
    "    chord_pitch_bigrams = defaultdict(int)\n",
    "    chord_pitch_dur_trigrams = defaultdict(int)\n",
    "    for abc_file in abc_files:\n",
    "        opus = converter.parse(abc_file, format='abc')\n",
    "        scores = opus.scores if isinstance(opus, stream.Opus) else [opus]\n",
    "        for i, score in enumerate(scores):\n",
    "            score = score.parts[0] if hasattr(score, \"parts\") else score\n",
    "            chords, pitches, durations,M, K = extract_separate_tokens(score)\n",
    "            meters_count = num_count(M,meters_count)\n",
    "            keys_count = num_count(K,keys_count)\n",
    "            chord_bigrams = bigram(chords[:-1],chords[1:],chord_bigrams)\n",
    "            chord_pitch_bigrams = bigram(chords,pitches,chord_pitch_bigrams)\n",
    "            chord_pitch_dur_trigrams = trigram(chords,pitches, durations, chord_pitch_dur_trigrams)\n",
    "            for chord in chords:\n",
    "                chords_count = num_count(chord,chords_count)\n",
    "                \n",
    "    unigramChordProbabilities = unigram_probability(chords_count)\n",
    "    unigramKeyProbabilities = unigram_probability(keys_count)\n",
    "    unigramMeterProbabilities = unigram_probability(meters_count) \n",
    "    bigramChordTransitions, bigramChordTransitionProbabilities = cal_bigram_Probability(chord_bigrams)\n",
    "    bigramChordPitchTransitions, bigramChordPitchTransitionProbabilities = cal_bigram_Probability(chord_pitch_bigrams)\n",
    "    trigramChordPitchDurTransitions, trigramChordPitchDurTransitionProbabilities = cal_trigram_Probability(chord_pitch_dur_trigrams)\n",
    "\n",
    "    return (unigramChordProbabilities, unigramKeyProbabilities, unigramMeterProbabilities, bigramChordTransitions, bigramChordTransitionProbabilities,\n",
    "    bigramChordPitchTransitions, bigramChordPitchTransitionProbabilities, trigramChordPitchDurTransitions, trigramChordPitchDurTransitionProbabilities)"
   ]
  },
  {
   "cell_type": "code",
   "execution_count": 122,
   "id": "05280742-0bfb-4885-ac31-dd251a91d7c7",
   "metadata": {},
   "outputs": [],
   "source": [
    "unigramChordProbabilities, unigramKeyProbabilities, unigramMeterProbabilities, bigramChordTransitions, bigramChordTransitionProbabilities,bigramChordPitchTransitions, bigramChordPitchTransitionProbabilities, trigramChordPitchDurTransitions, trigramChordPitchDurTransitionProbabilities = buildTransitionProbabilities(abc_files)"
   ]
  },
  {
   "cell_type": "code",
   "execution_count": 124,
   "id": "f7941edb-9951-45c4-82e3-e418e9e9fd57",
   "metadata": {},
   "outputs": [
    {
     "data": {
      "text/plain": [
       "{'4/4': 0.5193423597678917,\n",
       " '2/4': 0.039651837524177946,\n",
       " '2/2': 0.006769825918762089,\n",
       " '3/4': 0.058027079303675046,\n",
       " '6/8': 0.3578336557059961,\n",
       " '9/8': 0.013539651837524178,\n",
       " '3/2': 0.0029013539651837525,\n",
       " '6/4': 0.0019342359767891683}"
      ]
     },
     "execution_count": 124,
     "metadata": {},
     "output_type": "execute_result"
    }
   ],
   "source": [
    "unigramMeterProbabilities"
   ]
  },
  {
   "cell_type": "code",
   "execution_count": 125,
   "id": "d5364a9f-2ee7-4ff0-9e7e-0a9fbd34efbc",
   "metadata": {},
   "outputs": [
    {
     "data": {
      "text/plain": [
       "{'D major': 0.3452611218568665,\n",
       " 'G major': 0.3491295938104449,\n",
       " 'A major': 0.12088974854932302,\n",
       " 'F major': 0.025145067698259187,\n",
       " 'e minor': 0.02804642166344294,\n",
       " 'C major': 0.05222437137330754,\n",
       " 'a minor': 0.037717601547388784,\n",
       " 'B major': 0.0009671179883945841,\n",
       " 'd minor': 0.013539651837524178,\n",
       " 'B- major': 0.01160541586073501,\n",
       " 'E major': 0.0019342359767891683,\n",
       " 'g minor': 0.010638297872340425,\n",
       " 'b minor': 0.0029013539651837525}"
      ]
     },
     "execution_count": 125,
     "metadata": {},
     "output_type": "execute_result"
    }
   ],
   "source": [
    "unigramKeyProbabilities"
   ]
  },
  {
   "cell_type": "code",
   "execution_count": 126,
   "id": "f56b609f-a5d5-4c35-8cf0-5ce4232a982f",
   "metadata": {},
   "outputs": [],
   "source": [
    "def duration_to_abc(duration, L=\"1/8\"):\n",
    "\n",
    "    l_num, l_den = map(int, L.split(\"/\"))\n",
    "    base_unit = l_num / l_den  # L 对应的 quarterLength，例如 1/8 = 0.125\n",
    "\n",
    "    ratio = round(duration / base_unit, 3)\n",
    "\n",
    "    if ratio == 1.0:\n",
    "        return \"\"\n",
    "    elif ratio == 0.5:\n",
    "        return \"/\"\n",
    "    elif ratio == 0.25:\n",
    "        return \"//\"\n",
    "    elif ratio.is_integer():\n",
    "        return str(int(ratio))\n",
    "    else:\n",
    "        return str(ratio).replace(\".\", \"/\")\n",
    "\n",
    "def pitch_to_abc(pitch_name):\n",
    "\n",
    "    step_map = {'C': 'C', 'D': 'D', 'E': 'E', 'F': 'F', 'G': 'G', 'A': 'A', 'B': 'B'}\n",
    "    accidental_map = {'#': '^', '-': '_', 'b': '_'}\n",
    "    match = re.match(r\"([A-Ga-g])([#b♯♭]?)(\\d)\", pitch_name)\n",
    "    if not match:\n",
    "        return \"C\"  \n",
    "    step, acc, octave = match.groups()\n",
    "    octave = int(octave)\n",
    "    acc_symbol = accidental_map.get(acc, \"\")\n",
    "\n",
    "    base = step.upper()\n",
    "    if octave > 4:\n",
    "        return acc_symbol + base.lower() + \"'\" * (octave - 5)\n",
    "    elif octave < 4:\n",
    "        return acc_symbol + base + \",\" * (3 - octave)\n",
    "    else:\n",
    "        return acc_symbol + base.lower()"
   ]
  },
  {
   "cell_type": "code",
   "execution_count": 127,
   "id": "b27dcd3a-f650-45b4-83d2-0b2531c4064a",
   "metadata": {},
   "outputs": [],
   "source": [
    "def format_key_for_abc(key_str):\n",
    "    key_str = key_str.strip().lower()\n",
    "    if \"major\" in key_str:\n",
    "        return key_str.replace(\" major\", \"\").upper()\n",
    "    elif \"minor\" in key_str:\n",
    "        return key_str.replace(\" minor\", \"\").capitalize() + \"m\"\n",
    "    else:\n",
    "        return key_str"
   ]
  },
  {
   "cell_type": "code",
   "execution_count": 142,
   "id": "34f547bd-9010-4737-a88b-7622dfa3ff26",
   "metadata": {},
   "outputs": [],
   "source": [
    "def music_generate(length,abc_filename):\n",
    "    M = random.choices(\n",
    "        population=list(unigramMeterProbabilities.keys()),\n",
    "        weights=list(unigramMeterProbabilities.values()),\n",
    "        k=1\n",
    "    )[0]\n",
    "\n",
    "    \n",
    "    \n",
    "    \n",
    "    raw_key = random.choices(\n",
    "        population=list(unigramKeyProbabilities.keys()),\n",
    "        weights=list(unigramKeyProbabilities.values()),\n",
    "        k=1\n",
    "    )[0]\n",
    "\n",
    "    K = format_key_for_abc(raw_key)\n",
    "    sampled_chords = []\n",
    "    sampled_pitches = []\n",
    "    sampled_durations = []\n",
    "    last_chord = None\n",
    "    \n",
    "    for i in range(length):\n",
    "        if not last_chord:\n",
    "            chord = random.choices(\n",
    "                population=list(unigramChordProbabilities.keys()),\n",
    "                weights=list(unigramChordProbabilities.values()),\n",
    "                k=1\n",
    "                )[0]\n",
    "        else:\n",
    "            chord = random.choices(\n",
    "                population=bigramChordTransitions[last_chord],\n",
    "                weights=bigramChordTransitionProbabilities[last_chord],\n",
    "                k=1\n",
    "            )[0]\n",
    "        pitch = random.choices(\n",
    "                population=bigramChordPitchTransitions[chord],\n",
    "                weights=bigramChordPitchTransitionProbabilities[chord],\n",
    "                k=1\n",
    "            )[0]\n",
    "        duration = random.choices(\n",
    "                population=trigramChordPitchDurTransitions[(chord,pitch)],\n",
    "                weights=trigramChordPitchDurTransitionProbabilities[(chord,pitch)],\n",
    "                k=1\n",
    "            )[0]\n",
    "        sampled_chords.append(chord)\n",
    "        sampled_pitches.append(pitch)\n",
    "        sampled_durations.append(duration)\n",
    "        last_chord = chord\n",
    "\n",
    "    # save the generated music as a abc file\n",
    "    abc_lines = [\n",
    "        \"X:1\",\n",
    "        \"T:Generated Tune\",\n",
    "        f\"M:{M}\",\n",
    "        \"L:1/8\",  \n",
    "        f\"K:{K}\"\n",
    "    ]\n",
    "\n",
    "    print(M,K)\n",
    "    body_lines = []\n",
    "    measure = []\n",
    "    current_len = 0\n",
    "\n",
    "    for ch, pitch, dur in zip(sampled_chords, sampled_pitches, sampled_durations):\n",
    "        dur_str = duration_to_abc(dur,\"1/8\")\n",
    "        if pitch == \"Rest\":\n",
    "            pitch_token = \"z\" + dur_str\n",
    "        else:\n",
    "            pitch_token = pitch_to_abc(pitch) + dur_str\n",
    "\n",
    "        measure.append(f'\"{ch}\"{pitch_token}')\n",
    "        current_len += dur\n",
    "\n",
    "        if current_len >= 1.0:  \n",
    "            body_lines.append(\" \".join(measure) + \" |\")\n",
    "            measure = []\n",
    "            current_len = 0\n",
    "\n",
    "\n",
    "    if measure:\n",
    "        body_lines.append(\" \".join(measure))\n",
    "\n",
    "    abc_lines.append(\"\\n\".join(body_lines))\n",
    "\n",
    "    with open(abc_filename, \"w\", encoding=\"utf-8\") as f:\n",
    "        f.write(\"\\n\".join(abc_lines))\n",
    "\n",
    "    print(f\" ABC file written to: {abc_filename}\")\n",
    "   "
   ]
  },
  {
   "cell_type": "code",
   "execution_count": 144,
   "id": "8e0dd461-2ae3-4fd6-bb6d-444856192857",
   "metadata": {},
   "outputs": [
    {
     "name": "stdout",
     "output_type": "stream",
     "text": [
      "4/4 G\n",
      " ABC file written to: output.abc\n"
     ]
    }
   ],
   "source": [
    "music_generate(20,\"output.abc\")"
   ]
  },
  {
   "cell_type": "code",
   "execution_count": 145,
   "id": "6aa55e82-4a54-461c-9f07-7c7c29fb10ca",
   "metadata": {},
   "outputs": [
    {
     "name": "stdout",
     "output_type": "stream",
     "text": [
      "✅ Successfully wrote MIDI to output.mid\n"
     ]
    }
   ],
   "source": [
    "score = converter.parse('output.abc', format='abc')\n",
    "if isinstance(score, stream.Opus):\n",
    "    score = score.scores[0]\n",
    "\n",
    "\n",
    "ts_found = False\n",
    "ks_found = False\n",
    "\n",
    "for el in score.recurse():\n",
    "    if isinstance(el, meter.TimeSignature):\n",
    "        if not ts_found:\n",
    "            ts_found = True\n",
    "        else:\n",
    "            container = el.activeSite\n",
    "            if container is not None:\n",
    "                container.remove(el)\n",
    "\n",
    "    elif isinstance(el, key.KeySignature):\n",
    "        if not ks_found:\n",
    "            ks_found = True\n",
    "        else:\n",
    "            container = el.activeSite\n",
    "            if container is not None:\n",
    "                container.remove(el)\n",
    "\n",
    "score.write('midi', fp='output.mid')"
   ]
  },
  {
   "cell_type": "markdown",
   "id": "871e9c1a-2cf5-4ff6-a727-b390a3cdb6ae",
   "metadata": {},
   "source": [
    "### Llama"
   ]
  },
  {
   "cell_type": "code",
   "execution_count": 6,
   "id": "47e15b09-9f52-495e-816b-a4a3d5d8e3d4",
   "metadata": {},
   "outputs": [],
   "source": [
    "config = TokenizerConfig(\n",
    "    num_velocities=32,\n",
    "    use_chords=True,\n",
    "    use_programs=True,\n",
    "    use_rests=True,\n",
    "    use_tempos=True,\n",
    "    use_controls=False\n",
    ")\n",
    "tokenizer = REMI(config)"
   ]
  },
  {
   "cell_type": "code",
   "execution_count": 21,
   "id": "56cffbc1-1619-4e3e-9841-d2ae3c4db482",
   "metadata": {},
   "outputs": [],
   "source": [
    "def tokenize_all_midi(midi_folder):\n",
    "    token_seqs = []\n",
    "    for file in os.listdir(midi_folder):\n",
    "        if file.endswith(\".mid\") or file.endswith(\".midi\"):\n",
    "            score = Score(os.path.join(midi_folder, file))\n",
    "            token_list = tokenizer(score) \n",
    "            token_seqs.append(token_list.ids)\n",
    "            # for tokseq in token_list:\n",
    "            #     token_seqs.append(tokseq)\n",
    "    \n",
    "    return token_seqs"
   ]
  },
  {
   "cell_type": "code",
   "execution_count": 22,
   "id": "71e64218-2e4e-4c01-8fb3-60ef59bf19e2",
   "metadata": {},
   "outputs": [],
   "source": [
    "token_seqs = tokenize_all_midi(\"./nottingham-dataset-master/MIDI\")"
   ]
  },
  {
   "cell_type": "code",
   "execution_count": 32,
   "id": "74c91b10-62b5-4b50-9b35-c2555f0c12e0",
   "metadata": {},
   "outputs": [
    {
     "name": "stdout",
     "output_type": "stream",
     "text": [
      "90 percentile: max_len = 2427\n",
      "95 percentile: max_len = 3239\n",
      "98 percentile: max_len = 4453\n",
      "99 percentile: max_len = 5954\n"
     ]
    }
   ],
   "source": [
    "Lengths = [len(i) for i in token_seqs]\n",
    "sorted_lengths = sorted(Lengths, reverse=True)\n",
    "for p in [90, 95, 98, 99]:\n",
    "    val = int(np.percentile(Lengths, p))\n",
    "    print(f\"{p} percentile: max_len = {val}\")"
   ]
  },
  {
   "cell_type": "code",
   "execution_count": 33,
   "id": "f7515266-c1df-4765-9352-75ac71f0d00e",
   "metadata": {},
   "outputs": [],
   "source": [
    "class MIDITokenDataset(Dataset):\n",
    "    def __init__(self, token_seqs, seq_len=1024):\n",
    "        self.samples = []\n",
    "        for tokens in token_seqs:\n",
    "            for i in range(0, len(tokens) - seq_len, seq_len):\n",
    "                chunk = tokens[i:i+seq_len]\n",
    "                self.samples.append(torch.tensor(chunk, dtype=torch.long))\n",
    "        \n",
    "    def __len__(self):\n",
    "        return len(self.samples)\n",
    "\n",
    "    def __getitem__(self, idx):\n",
    "        x = self.samples[idx][:-1]   \n",
    "        y = self.samples[idx][1:]    \n",
    "        return x, y"
   ]
  },
  {
   "cell_type": "code",
   "execution_count": 34,
   "id": "19c6bea8-1ae0-4fc8-8da5-febb5e735549",
   "metadata": {},
   "outputs": [],
   "source": [
    "vocab_size = tokenizer.vocab_size"
   ]
  },
  {
   "cell_type": "code",
   "execution_count": 39,
   "id": "200da278-5ca1-4df5-9a02-3b08a1a8f457",
   "metadata": {},
   "outputs": [],
   "source": [
    "class RMSNorm(nn.Module):\n",
    "    def __init__(self, dim, eps=1e-6):\n",
    "        super().__init__()\n",
    "        self.eps = eps\n",
    "        self.weight = nn.Parameter(torch.ones(dim))\n",
    "\n",
    "    def forward(self, x):\n",
    "        norm = x.norm(2, dim=-1, keepdim=True)\n",
    "        return self.weight * x / (norm + self.eps)\n",
    "\n",
    "class Swish(nn.Module):\n",
    "    def forward(self, x):\n",
    "        return x * torch.sigmoid(x)\n",
    "\n",
    "class SwiGLUFeedForward(nn.Module):\n",
    "    def __init__(self, dim, hidden_dim):\n",
    "        super().__init__()\n",
    "        self.w1 = nn.Linear(dim, hidden_dim)\n",
    "        self.w2 = nn.Linear(dim, hidden_dim)\n",
    "        self.activation = Swish()\n",
    "        self.proj = nn.Linear(hidden_dim, dim)\n",
    "\n",
    "    def forward(self, x):\n",
    "        return self.proj(self.w1(x) * self.activation(self.w2(x)))\n",
    "\n",
    "class Attention(nn.Module):\n",
    "    def __init__(self, dim, n_heads):\n",
    "        super().__init__()\n",
    "        self.n_heads = n_heads\n",
    "        self.head_dim = dim // n_heads\n",
    "        self.qkv = nn.Linear(dim, dim * 3)\n",
    "        self.out = nn.Linear(dim, dim)\n",
    "\n",
    "    def forward(self, x, rope_embed):\n",
    "        B, T, C = x.shape\n",
    "        qkv = self.qkv(x).view(B, T, 3, self.n_heads, self.head_dim).transpose(1, 3)\n",
    "        q, k, v = qkv.unbind(dim=2)  # (B, n_heads, T, head_dim)\n",
    "\n",
    "        q, k = apply_rope(q, rope_embed), apply_rope(k, rope_embed)\n",
    "\n",
    "        att = (q @ k.transpose(-2, -1)) / math.sqrt(self.head_dim)\n",
    "        att = att.masked_fill(torch.triu(torch.ones(T, T, device=x.device), 1) == 1, float('-inf'))\n",
    "        att = torch.softmax(att, dim=-1)\n",
    "        out = att @ v  # (B, n_heads, T, head_dim)\n",
    "        out = out.transpose(1, 2).reshape(B, T, C)\n",
    "        return self.out(out)\n",
    "\n",
    "class RotaryEmbedding(nn.Module):\n",
    "    def __init__(self, dim):\n",
    "        super().__init__()\n",
    "        inv_freq = 1.0 / (10000 ** (torch.arange(0, dim, 2).float() / dim))\n",
    "        self.register_buffer(\"inv_freq\", inv_freq)\n",
    "\n",
    "    def get_embed(self, seq_len, device):\n",
    "        pos = torch.arange(seq_len, device=device).type_as(self.inv_freq)\n",
    "        freqs = torch.einsum(\"i,j->ij\", pos, self.inv_freq)\n",
    "        emb = torch.cat([freqs.sin(), freqs.cos()], dim=-1)\n",
    "        return emb\n",
    "\n",
    "def apply_rope(x, rope_embed):\n",
    "    # x: (B, n_heads, T, head_dim)\n",
    "    sin, cos = rope_embed[..., ::2], rope_embed[..., 1::2]\n",
    "    x1, x2 = x[..., ::2], x[..., 1::2]\n",
    "    return torch.cat([x1 * cos - x2 * sin, x1 * sin + x2 * cos], dim=-1)\n",
    "\n",
    "class DecoderBlock(nn.Module):\n",
    "    def __init__(self, dim, n_heads):\n",
    "        super().__init__()\n",
    "        self.norm1 = RMSNorm(dim)\n",
    "        self.attn = Attention(dim, n_heads)\n",
    "        self.norm2 = RMSNorm(dim)\n",
    "        self.ff = SwiGLUFeedForward(dim, 4 * dim)\n",
    "\n",
    "    def forward(self, x, rope_embed):\n",
    "        x = x + self.attn(self.norm1(x), rope_embed)\n",
    "        x = x + self.ff(self.norm2(x))\n",
    "        return x"
   ]
  },
  {
   "cell_type": "code",
   "execution_count": 40,
   "id": "fa7bcaed-615c-4e81-964b-efc780071792",
   "metadata": {},
   "outputs": [],
   "source": [
    "class MiniLLaMA(nn.Module):\n",
    "    def __init__(self, vocab_size, dim=256, n_heads=4, n_layers=4, max_seq_len=1024):\n",
    "        super().__init__()\n",
    "        self.token_emb = nn.Embedding(vocab_size, dim)\n",
    "        self.pos_emb = RotaryEmbedding(dim // n_heads)\n",
    "        self.blocks = nn.ModuleList([DecoderBlock(dim, n_heads) for _ in range(n_layers)])\n",
    "        self.norm = RMSNorm(dim)\n",
    "        self.output = nn.Linear(dim, vocab_size)\n",
    "\n",
    "    def forward(self, idx):\n",
    "        B, T = idx.shape\n",
    "        x = self.token_emb(idx)\n",
    "        rope_embed = self.pos_emb.get_embed(T, idx.device)\n",
    "        for block in self.blocks:\n",
    "            x = block(x, rope_embed)\n",
    "        x = self.norm(x)\n",
    "        return self.output(x)"
   ]
  },
  {
   "cell_type": "code",
   "execution_count": 76,
   "id": "58ef7ced-eea8-4f2c-820d-84c53644c264",
   "metadata": {},
   "outputs": [],
   "source": [
    "class Pipeline:\n",
    "    def __init__(self, model, dataset, vocab_size,epochs, batch_size=32, lr=1e-3, device=None):\n",
    "        self.device = device or torch.device(\"cuda\" if torch.cuda.is_available() else \"cpu\")\n",
    "        self.model = model.to(self.device)\n",
    "        self.dataset = dataset\n",
    "        self.vocab_size = vocab_size\n",
    "    \n",
    "        self.dataloader = DataLoader(dataset, batch_size=batch_size, shuffle=True)\n",
    "        self.total_step = len(self.dataloader) * epochs\n",
    "        self.optimizer = torch.optim.AdamW(self.model.parameters(), lr=lr, weight_decay = 1e-5)\n",
    "        self.schedule = CosineAnnealingLR(self.optimizer, T_max=self.total_step)\n",
    "        self.criterion = nn.CrossEntropyLoss()\n",
    "\n",
    "    def train(self, epochs):\n",
    "        self.model.train()\n",
    "        best_loss = float('inf')\n",
    "        patience = 5\n",
    "        count = 0\n",
    "        for epoch in range(epochs):\n",
    "            total_loss = 0\n",
    "            pbar = tqdm(self.dataloader, desc=f\"Epoch {epoch+1}/{epochs}\")\n",
    "            for x, y in pbar:\n",
    "                x = x.to(self.device)\n",
    "                y = y.to(self.device)\n",
    "\n",
    "                logits = self.model(x) \n",
    "                loss = self.criterion(logits.view(-1, self.vocab_size), y.view(-1))\n",
    "\n",
    "                self.optimizer.zero_grad()\n",
    "                loss.backward()\n",
    "                self.optimizer.step()\n",
    "                self.schedule.step()\n",
    "\n",
    "                total_loss += loss.item()\n",
    "                pbar.set_postfix(loss=loss.item())\n",
    "\n",
    "            avg_loss = total_loss / len(self.dataloader)\n",
    "            print(f\"[Epoch {epoch+1}] Average Loss: {avg_loss:.4f}\")\n",
    "            if avg_loss < best_loss:\n",
    "                best_loss = avg_loss\n",
    "                torch.save(self.model.state_dict(), 'bestmusicLLaMA.pt')\n",
    "                count = 0\n",
    "            else:\n",
    "                count += 1\n",
    "            if count >= patience:\n",
    "                print(\"Early stopping!\")\n",
    "                break\n",
    "                \n",
    "                \n",
    "\n",
    "\n",
    "        \n",
    "\n",
    "    "
   ]
  },
  {
   "cell_type": "code",
   "execution_count": 77,
   "id": "bcb84de5-ef8d-475f-8f07-790a60360e44",
   "metadata": {},
   "outputs": [
    {
     "name": "stderr",
     "output_type": "stream",
     "text": [
      "Epoch 1/100: 100%|██████████| 36/36 [00:09<00:00,  3.66it/s, loss=5.15]\n"
     ]
    },
    {
     "name": "stdout",
     "output_type": "stream",
     "text": [
      "[Epoch 1] Average Loss: 5.6877\n"
     ]
    },
    {
     "name": "stderr",
     "output_type": "stream",
     "text": [
      "Epoch 2/100: 100%|██████████| 36/36 [00:09<00:00,  3.69it/s, loss=4.17]\n"
     ]
    },
    {
     "name": "stdout",
     "output_type": "stream",
     "text": [
      "[Epoch 2] Average Loss: 4.6257\n"
     ]
    },
    {
     "name": "stderr",
     "output_type": "stream",
     "text": [
      "Epoch 3/100: 100%|██████████| 36/36 [00:09<00:00,  3.69it/s, loss=3.4] \n"
     ]
    },
    {
     "name": "stdout",
     "output_type": "stream",
     "text": [
      "[Epoch 3] Average Loss: 3.7535\n"
     ]
    },
    {
     "name": "stderr",
     "output_type": "stream",
     "text": [
      "Epoch 4/100: 100%|██████████| 36/36 [00:09<00:00,  3.69it/s, loss=2.81]\n"
     ]
    },
    {
     "name": "stdout",
     "output_type": "stream",
     "text": [
      "[Epoch 4] Average Loss: 3.0768\n"
     ]
    },
    {
     "name": "stderr",
     "output_type": "stream",
     "text": [
      "Epoch 5/100: 100%|██████████| 36/36 [00:09<00:00,  3.68it/s, loss=2.35]\n"
     ]
    },
    {
     "name": "stdout",
     "output_type": "stream",
     "text": [
      "[Epoch 5] Average Loss: 2.5633\n"
     ]
    },
    {
     "name": "stderr",
     "output_type": "stream",
     "text": [
      "Epoch 6/100: 100%|██████████| 36/36 [00:09<00:00,  3.67it/s, loss=2.02]\n"
     ]
    },
    {
     "name": "stdout",
     "output_type": "stream",
     "text": [
      "[Epoch 6] Average Loss: 2.1987\n"
     ]
    },
    {
     "name": "stderr",
     "output_type": "stream",
     "text": [
      "Epoch 7/100: 100%|██████████| 36/36 [00:09<00:00,  3.65it/s, loss=1.85]\n"
     ]
    },
    {
     "name": "stdout",
     "output_type": "stream",
     "text": [
      "[Epoch 7] Average Loss: 1.9545\n"
     ]
    },
    {
     "name": "stderr",
     "output_type": "stream",
     "text": [
      "Epoch 8/100: 100%|██████████| 36/36 [00:09<00:00,  3.64it/s, loss=1.7] \n"
     ]
    },
    {
     "name": "stdout",
     "output_type": "stream",
     "text": [
      "[Epoch 8] Average Loss: 1.7944\n"
     ]
    },
    {
     "name": "stderr",
     "output_type": "stream",
     "text": [
      "Epoch 9/100: 100%|██████████| 36/36 [00:09<00:00,  3.63it/s, loss=1.65]\n"
     ]
    },
    {
     "name": "stdout",
     "output_type": "stream",
     "text": [
      "[Epoch 9] Average Loss: 1.6791\n"
     ]
    },
    {
     "name": "stderr",
     "output_type": "stream",
     "text": [
      "Epoch 10/100: 100%|██████████| 36/36 [00:09<00:00,  3.61it/s, loss=1.47]\n"
     ]
    },
    {
     "name": "stdout",
     "output_type": "stream",
     "text": [
      "[Epoch 10] Average Loss: 1.5631\n"
     ]
    },
    {
     "name": "stderr",
     "output_type": "stream",
     "text": [
      "Epoch 11/100: 100%|██████████| 36/36 [00:10<00:00,  3.55it/s, loss=1.39]\n"
     ]
    },
    {
     "name": "stdout",
     "output_type": "stream",
     "text": [
      "[Epoch 11] Average Loss: 1.4427\n"
     ]
    },
    {
     "name": "stderr",
     "output_type": "stream",
     "text": [
      "Epoch 12/100: 100%|██████████| 36/36 [00:10<00:00,  3.54it/s, loss=1.28]\n"
     ]
    },
    {
     "name": "stdout",
     "output_type": "stream",
     "text": [
      "[Epoch 12] Average Loss: 1.3358\n"
     ]
    },
    {
     "name": "stderr",
     "output_type": "stream",
     "text": [
      "Epoch 13/100: 100%|██████████| 36/36 [00:10<00:00,  3.54it/s, loss=1.23]\n"
     ]
    },
    {
     "name": "stdout",
     "output_type": "stream",
     "text": [
      "[Epoch 13] Average Loss: 1.2495\n"
     ]
    },
    {
     "name": "stderr",
     "output_type": "stream",
     "text": [
      "Epoch 14/100: 100%|██████████| 36/36 [00:10<00:00,  3.52it/s, loss=1.07]\n"
     ]
    },
    {
     "name": "stdout",
     "output_type": "stream",
     "text": [
      "[Epoch 14] Average Loss: 1.1693\n"
     ]
    },
    {
     "name": "stderr",
     "output_type": "stream",
     "text": [
      "Epoch 15/100: 100%|██████████| 36/36 [00:10<00:00,  3.51it/s, loss=0.991]\n"
     ]
    },
    {
     "name": "stdout",
     "output_type": "stream",
     "text": [
      "[Epoch 15] Average Loss: 1.0994\n"
     ]
    },
    {
     "name": "stderr",
     "output_type": "stream",
     "text": [
      "Epoch 16/100: 100%|██████████| 36/36 [00:10<00:00,  3.53it/s, loss=0.98] \n"
     ]
    },
    {
     "name": "stdout",
     "output_type": "stream",
     "text": [
      "[Epoch 16] Average Loss: 1.0332\n"
     ]
    },
    {
     "name": "stderr",
     "output_type": "stream",
     "text": [
      "Epoch 17/100: 100%|██████████| 36/36 [00:10<00:00,  3.52it/s, loss=0.995]\n"
     ]
    },
    {
     "name": "stdout",
     "output_type": "stream",
     "text": [
      "[Epoch 17] Average Loss: 0.9700\n"
     ]
    },
    {
     "name": "stderr",
     "output_type": "stream",
     "text": [
      "Epoch 18/100: 100%|██████████| 36/36 [00:10<00:00,  3.52it/s, loss=0.888]\n"
     ]
    },
    {
     "name": "stdout",
     "output_type": "stream",
     "text": [
      "[Epoch 18] Average Loss: 0.9059\n"
     ]
    },
    {
     "name": "stderr",
     "output_type": "stream",
     "text": [
      "Epoch 19/100: 100%|██████████| 36/36 [00:10<00:00,  3.52it/s, loss=0.715]\n"
     ]
    },
    {
     "name": "stdout",
     "output_type": "stream",
     "text": [
      "[Epoch 19] Average Loss: 0.8350\n"
     ]
    },
    {
     "name": "stderr",
     "output_type": "stream",
     "text": [
      "Epoch 20/100: 100%|██████████| 36/36 [00:10<00:00,  3.53it/s, loss=0.809]\n"
     ]
    },
    {
     "name": "stdout",
     "output_type": "stream",
     "text": [
      "[Epoch 20] Average Loss: 0.7668\n"
     ]
    },
    {
     "name": "stderr",
     "output_type": "stream",
     "text": [
      "Epoch 21/100: 100%|██████████| 36/36 [00:10<00:00,  3.53it/s, loss=0.711]\n"
     ]
    },
    {
     "name": "stdout",
     "output_type": "stream",
     "text": [
      "[Epoch 21] Average Loss: 0.7110\n"
     ]
    },
    {
     "name": "stderr",
     "output_type": "stream",
     "text": [
      "Epoch 22/100: 100%|██████████| 36/36 [00:10<00:00,  3.52it/s, loss=0.659]\n"
     ]
    },
    {
     "name": "stdout",
     "output_type": "stream",
     "text": [
      "[Epoch 22] Average Loss: 0.6741\n"
     ]
    },
    {
     "name": "stderr",
     "output_type": "stream",
     "text": [
      "Epoch 23/100: 100%|██████████| 36/36 [00:10<00:00,  3.52it/s, loss=0.576]\n"
     ]
    },
    {
     "name": "stdout",
     "output_type": "stream",
     "text": [
      "[Epoch 23] Average Loss: 0.6448\n"
     ]
    },
    {
     "name": "stderr",
     "output_type": "stream",
     "text": [
      "Epoch 24/100: 100%|██████████| 36/36 [00:10<00:00,  3.52it/s, loss=0.6]  \n"
     ]
    },
    {
     "name": "stdout",
     "output_type": "stream",
     "text": [
      "[Epoch 24] Average Loss: 0.6201\n"
     ]
    },
    {
     "name": "stderr",
     "output_type": "stream",
     "text": [
      "Epoch 25/100: 100%|██████████| 36/36 [00:10<00:00,  3.52it/s, loss=0.658]\n"
     ]
    },
    {
     "name": "stdout",
     "output_type": "stream",
     "text": [
      "[Epoch 25] Average Loss: 0.6015\n"
     ]
    },
    {
     "name": "stderr",
     "output_type": "stream",
     "text": [
      "Epoch 26/100: 100%|██████████| 36/36 [00:10<00:00,  3.53it/s, loss=0.573]\n"
     ]
    },
    {
     "name": "stdout",
     "output_type": "stream",
     "text": [
      "[Epoch 26] Average Loss: 0.5812\n"
     ]
    },
    {
     "name": "stderr",
     "output_type": "stream",
     "text": [
      "Epoch 27/100: 100%|██████████| 36/36 [00:10<00:00,  3.53it/s, loss=0.504]\n"
     ]
    },
    {
     "name": "stdout",
     "output_type": "stream",
     "text": [
      "[Epoch 27] Average Loss: 0.5647\n"
     ]
    },
    {
     "name": "stderr",
     "output_type": "stream",
     "text": [
      "Epoch 28/100: 100%|██████████| 36/36 [00:10<00:00,  3.52it/s, loss=0.494]\n"
     ]
    },
    {
     "name": "stdout",
     "output_type": "stream",
     "text": [
      "[Epoch 28] Average Loss: 0.5502\n"
     ]
    },
    {
     "name": "stderr",
     "output_type": "stream",
     "text": [
      "Epoch 29/100: 100%|██████████| 36/36 [00:10<00:00,  3.52it/s, loss=0.525]\n"
     ]
    },
    {
     "name": "stdout",
     "output_type": "stream",
     "text": [
      "[Epoch 29] Average Loss: 0.5386\n"
     ]
    },
    {
     "name": "stderr",
     "output_type": "stream",
     "text": [
      "Epoch 30/100: 100%|██████████| 36/36 [00:10<00:00,  3.51it/s, loss=0.457]\n"
     ]
    },
    {
     "name": "stdout",
     "output_type": "stream",
     "text": [
      "[Epoch 30] Average Loss: 0.5251\n"
     ]
    },
    {
     "name": "stderr",
     "output_type": "stream",
     "text": [
      "Epoch 31/100: 100%|██████████| 36/36 [00:10<00:00,  3.50it/s, loss=0.518]\n"
     ]
    },
    {
     "name": "stdout",
     "output_type": "stream",
     "text": [
      "[Epoch 31] Average Loss: 0.5139\n"
     ]
    },
    {
     "name": "stderr",
     "output_type": "stream",
     "text": [
      "Epoch 32/100: 100%|██████████| 36/36 [00:10<00:00,  3.52it/s, loss=0.552]\n"
     ]
    },
    {
     "name": "stdout",
     "output_type": "stream",
     "text": [
      "[Epoch 32] Average Loss: 0.5015\n"
     ]
    },
    {
     "name": "stderr",
     "output_type": "stream",
     "text": [
      "Epoch 33/100: 100%|██████████| 36/36 [00:10<00:00,  3.51it/s, loss=0.452]\n"
     ]
    },
    {
     "name": "stdout",
     "output_type": "stream",
     "text": [
      "[Epoch 33] Average Loss: 0.4901\n"
     ]
    },
    {
     "name": "stderr",
     "output_type": "stream",
     "text": [
      "Epoch 34/100: 100%|██████████| 36/36 [00:10<00:00,  3.53it/s, loss=0.547]\n"
     ]
    },
    {
     "name": "stdout",
     "output_type": "stream",
     "text": [
      "[Epoch 34] Average Loss: 0.4815\n"
     ]
    },
    {
     "name": "stderr",
     "output_type": "stream",
     "text": [
      "Epoch 35/100: 100%|██████████| 36/36 [00:10<00:00,  3.51it/s, loss=0.523]\n"
     ]
    },
    {
     "name": "stdout",
     "output_type": "stream",
     "text": [
      "[Epoch 35] Average Loss: 0.4756\n"
     ]
    },
    {
     "name": "stderr",
     "output_type": "stream",
     "text": [
      "Epoch 36/100: 100%|██████████| 36/36 [00:10<00:00,  3.55it/s, loss=0.449]\n"
     ]
    },
    {
     "name": "stdout",
     "output_type": "stream",
     "text": [
      "[Epoch 36] Average Loss: 0.4679\n"
     ]
    },
    {
     "name": "stderr",
     "output_type": "stream",
     "text": [
      "Epoch 37/100: 100%|██████████| 36/36 [00:10<00:00,  3.53it/s, loss=0.46] \n"
     ]
    },
    {
     "name": "stdout",
     "output_type": "stream",
     "text": [
      "[Epoch 37] Average Loss: 0.4616\n"
     ]
    },
    {
     "name": "stderr",
     "output_type": "stream",
     "text": [
      "Epoch 38/100: 100%|██████████| 36/36 [00:10<00:00,  3.53it/s, loss=0.444]\n"
     ]
    },
    {
     "name": "stdout",
     "output_type": "stream",
     "text": [
      "[Epoch 38] Average Loss: 0.4560\n"
     ]
    },
    {
     "name": "stderr",
     "output_type": "stream",
     "text": [
      "Epoch 39/100: 100%|██████████| 36/36 [00:10<00:00,  3.52it/s, loss=0.397]\n"
     ]
    },
    {
     "name": "stdout",
     "output_type": "stream",
     "text": [
      "[Epoch 39] Average Loss: 0.4495\n"
     ]
    },
    {
     "name": "stderr",
     "output_type": "stream",
     "text": [
      "Epoch 40/100: 100%|██████████| 36/36 [00:10<00:00,  3.52it/s, loss=0.46] \n"
     ]
    },
    {
     "name": "stdout",
     "output_type": "stream",
     "text": [
      "[Epoch 40] Average Loss: 0.4464\n"
     ]
    },
    {
     "name": "stderr",
     "output_type": "stream",
     "text": [
      "Epoch 41/100: 100%|██████████| 36/36 [00:10<00:00,  3.54it/s, loss=0.533]\n"
     ]
    },
    {
     "name": "stdout",
     "output_type": "stream",
     "text": [
      "[Epoch 41] Average Loss: 0.4444\n"
     ]
    },
    {
     "name": "stderr",
     "output_type": "stream",
     "text": [
      "Epoch 42/100: 100%|██████████| 36/36 [00:10<00:00,  3.54it/s, loss=0.456]\n"
     ]
    },
    {
     "name": "stdout",
     "output_type": "stream",
     "text": [
      "[Epoch 42] Average Loss: 0.4381\n"
     ]
    },
    {
     "name": "stderr",
     "output_type": "stream",
     "text": [
      "Epoch 43/100: 100%|██████████| 36/36 [00:10<00:00,  3.52it/s, loss=0.451]\n"
     ]
    },
    {
     "name": "stdout",
     "output_type": "stream",
     "text": [
      "[Epoch 43] Average Loss: 0.4339\n"
     ]
    },
    {
     "name": "stderr",
     "output_type": "stream",
     "text": [
      "Epoch 44/100: 100%|██████████| 36/36 [00:10<00:00,  3.54it/s, loss=0.394]\n"
     ]
    },
    {
     "name": "stdout",
     "output_type": "stream",
     "text": [
      "[Epoch 44] Average Loss: 0.4292\n"
     ]
    },
    {
     "name": "stderr",
     "output_type": "stream",
     "text": [
      "Epoch 45/100: 100%|██████████| 36/36 [00:10<00:00,  3.53it/s, loss=0.426]\n"
     ]
    },
    {
     "name": "stdout",
     "output_type": "stream",
     "text": [
      "[Epoch 45] Average Loss: 0.4271\n"
     ]
    },
    {
     "name": "stderr",
     "output_type": "stream",
     "text": [
      "Epoch 46/100: 100%|██████████| 36/36 [00:10<00:00,  3.51it/s, loss=0.463]\n"
     ]
    },
    {
     "name": "stdout",
     "output_type": "stream",
     "text": [
      "[Epoch 46] Average Loss: 0.4239\n"
     ]
    },
    {
     "name": "stderr",
     "output_type": "stream",
     "text": [
      "Epoch 47/100: 100%|██████████| 36/36 [00:10<00:00,  3.50it/s, loss=0.412]\n"
     ]
    },
    {
     "name": "stdout",
     "output_type": "stream",
     "text": [
      "[Epoch 47] Average Loss: 0.4210\n"
     ]
    },
    {
     "name": "stderr",
     "output_type": "stream",
     "text": [
      "Epoch 48/100: 100%|██████████| 36/36 [00:10<00:00,  3.52it/s, loss=0.449]\n"
     ]
    },
    {
     "name": "stdout",
     "output_type": "stream",
     "text": [
      "[Epoch 48] Average Loss: 0.4179\n"
     ]
    },
    {
     "name": "stderr",
     "output_type": "stream",
     "text": [
      "Epoch 49/100: 100%|██████████| 36/36 [00:10<00:00,  3.53it/s, loss=0.395]\n"
     ]
    },
    {
     "name": "stdout",
     "output_type": "stream",
     "text": [
      "[Epoch 49] Average Loss: 0.4143\n"
     ]
    },
    {
     "name": "stderr",
     "output_type": "stream",
     "text": [
      "Epoch 50/100: 100%|██████████| 36/36 [00:10<00:00,  3.52it/s, loss=0.382]\n"
     ]
    },
    {
     "name": "stdout",
     "output_type": "stream",
     "text": [
      "[Epoch 50] Average Loss: 0.4117\n"
     ]
    },
    {
     "name": "stderr",
     "output_type": "stream",
     "text": [
      "Epoch 51/100: 100%|██████████| 36/36 [00:10<00:00,  3.52it/s, loss=0.455]\n"
     ]
    },
    {
     "name": "stdout",
     "output_type": "stream",
     "text": [
      "[Epoch 51] Average Loss: 0.4127\n"
     ]
    },
    {
     "name": "stderr",
     "output_type": "stream",
     "text": [
      "Epoch 52/100: 100%|██████████| 36/36 [00:10<00:00,  3.53it/s, loss=0.358]\n"
     ]
    },
    {
     "name": "stdout",
     "output_type": "stream",
     "text": [
      "[Epoch 52] Average Loss: 0.4063\n"
     ]
    },
    {
     "name": "stderr",
     "output_type": "stream",
     "text": [
      "Epoch 53/100: 100%|██████████| 36/36 [00:10<00:00,  3.53it/s, loss=0.388]\n"
     ]
    },
    {
     "name": "stdout",
     "output_type": "stream",
     "text": [
      "[Epoch 53] Average Loss: 0.4042\n"
     ]
    },
    {
     "name": "stderr",
     "output_type": "stream",
     "text": [
      "Epoch 54/100: 100%|██████████| 36/36 [00:10<00:00,  3.51it/s, loss=0.39] \n"
     ]
    },
    {
     "name": "stdout",
     "output_type": "stream",
     "text": [
      "[Epoch 54] Average Loss: 0.4021\n"
     ]
    },
    {
     "name": "stderr",
     "output_type": "stream",
     "text": [
      "Epoch 55/100: 100%|██████████| 36/36 [00:10<00:00,  3.53it/s, loss=0.39] \n"
     ]
    },
    {
     "name": "stdout",
     "output_type": "stream",
     "text": [
      "[Epoch 55] Average Loss: 0.4001\n"
     ]
    },
    {
     "name": "stderr",
     "output_type": "stream",
     "text": [
      "Epoch 56/100: 100%|██████████| 36/36 [00:10<00:00,  3.51it/s, loss=0.455]\n"
     ]
    },
    {
     "name": "stdout",
     "output_type": "stream",
     "text": [
      "[Epoch 56] Average Loss: 0.3995\n"
     ]
    },
    {
     "name": "stderr",
     "output_type": "stream",
     "text": [
      "Epoch 57/100: 100%|██████████| 36/36 [00:10<00:00,  3.52it/s, loss=0.427]\n"
     ]
    },
    {
     "name": "stdout",
     "output_type": "stream",
     "text": [
      "[Epoch 57] Average Loss: 0.3975\n"
     ]
    },
    {
     "name": "stderr",
     "output_type": "stream",
     "text": [
      "Epoch 58/100: 100%|██████████| 36/36 [00:10<00:00,  3.53it/s, loss=0.391]\n"
     ]
    },
    {
     "name": "stdout",
     "output_type": "stream",
     "text": [
      "[Epoch 58] Average Loss: 0.3945\n"
     ]
    },
    {
     "name": "stderr",
     "output_type": "stream",
     "text": [
      "Epoch 59/100: 100%|██████████| 36/36 [00:10<00:00,  3.52it/s, loss=0.412]\n"
     ]
    },
    {
     "name": "stdout",
     "output_type": "stream",
     "text": [
      "[Epoch 59] Average Loss: 0.3936\n"
     ]
    },
    {
     "name": "stderr",
     "output_type": "stream",
     "text": [
      "Epoch 60/100: 100%|██████████| 36/36 [00:10<00:00,  3.52it/s, loss=0.407]\n"
     ]
    },
    {
     "name": "stdout",
     "output_type": "stream",
     "text": [
      "[Epoch 60] Average Loss: 0.3913\n"
     ]
    },
    {
     "name": "stderr",
     "output_type": "stream",
     "text": [
      "Epoch 61/100: 100%|██████████| 36/36 [00:10<00:00,  3.52it/s, loss=0.376]\n"
     ]
    },
    {
     "name": "stdout",
     "output_type": "stream",
     "text": [
      "[Epoch 61] Average Loss: 0.3896\n"
     ]
    },
    {
     "name": "stderr",
     "output_type": "stream",
     "text": [
      "Epoch 62/100: 100%|██████████| 36/36 [00:10<00:00,  3.53it/s, loss=0.393]\n"
     ]
    },
    {
     "name": "stdout",
     "output_type": "stream",
     "text": [
      "[Epoch 62] Average Loss: 0.3885\n"
     ]
    },
    {
     "name": "stderr",
     "output_type": "stream",
     "text": [
      "Epoch 63/100: 100%|██████████| 36/36 [00:10<00:00,  3.52it/s, loss=0.359]\n"
     ]
    },
    {
     "name": "stdout",
     "output_type": "stream",
     "text": [
      "[Epoch 63] Average Loss: 0.3867\n"
     ]
    },
    {
     "name": "stderr",
     "output_type": "stream",
     "text": [
      "Epoch 64/100: 100%|██████████| 36/36 [00:10<00:00,  3.53it/s, loss=0.401]\n"
     ]
    },
    {
     "name": "stdout",
     "output_type": "stream",
     "text": [
      "[Epoch 64] Average Loss: 0.3860\n"
     ]
    },
    {
     "name": "stderr",
     "output_type": "stream",
     "text": [
      "Epoch 65/100: 100%|██████████| 36/36 [00:10<00:00,  3.51it/s, loss=0.454]\n"
     ]
    },
    {
     "name": "stdout",
     "output_type": "stream",
     "text": [
      "[Epoch 65] Average Loss: 0.3856\n"
     ]
    },
    {
     "name": "stderr",
     "output_type": "stream",
     "text": [
      "Epoch 66/100: 100%|██████████| 36/36 [00:10<00:00,  3.51it/s, loss=0.395]\n"
     ]
    },
    {
     "name": "stdout",
     "output_type": "stream",
     "text": [
      "[Epoch 66] Average Loss: 0.3832\n"
     ]
    },
    {
     "name": "stderr",
     "output_type": "stream",
     "text": [
      "Epoch 67/100: 100%|██████████| 36/36 [00:10<00:00,  3.52it/s, loss=0.376]\n"
     ]
    },
    {
     "name": "stdout",
     "output_type": "stream",
     "text": [
      "[Epoch 67] Average Loss: 0.3815\n"
     ]
    },
    {
     "name": "stderr",
     "output_type": "stream",
     "text": [
      "Epoch 68/100: 100%|██████████| 36/36 [00:10<00:00,  3.51it/s, loss=0.378]\n"
     ]
    },
    {
     "name": "stdout",
     "output_type": "stream",
     "text": [
      "[Epoch 68] Average Loss: 0.3805\n"
     ]
    },
    {
     "name": "stderr",
     "output_type": "stream",
     "text": [
      "Epoch 69/100: 100%|██████████| 36/36 [00:10<00:00,  3.53it/s, loss=0.328]\n"
     ]
    },
    {
     "name": "stdout",
     "output_type": "stream",
     "text": [
      "[Epoch 69] Average Loss: 0.3787\n"
     ]
    },
    {
     "name": "stderr",
     "output_type": "stream",
     "text": [
      "Epoch 70/100: 100%|██████████| 36/36 [00:10<00:00,  3.54it/s, loss=0.352]\n"
     ]
    },
    {
     "name": "stdout",
     "output_type": "stream",
     "text": [
      "[Epoch 70] Average Loss: 0.3781\n"
     ]
    },
    {
     "name": "stderr",
     "output_type": "stream",
     "text": [
      "Epoch 71/100: 100%|██████████| 36/36 [00:10<00:00,  3.53it/s, loss=0.371]\n"
     ]
    },
    {
     "name": "stdout",
     "output_type": "stream",
     "text": [
      "[Epoch 71] Average Loss: 0.3774\n"
     ]
    },
    {
     "name": "stderr",
     "output_type": "stream",
     "text": [
      "Epoch 72/100: 100%|██████████| 36/36 [00:10<00:00,  3.53it/s, loss=0.346]\n"
     ]
    },
    {
     "name": "stdout",
     "output_type": "stream",
     "text": [
      "[Epoch 72] Average Loss: 0.3760\n"
     ]
    },
    {
     "name": "stderr",
     "output_type": "stream",
     "text": [
      "Epoch 73/100: 100%|██████████| 36/36 [00:10<00:00,  3.50it/s, loss=0.392]\n"
     ]
    },
    {
     "name": "stdout",
     "output_type": "stream",
     "text": [
      "[Epoch 73] Average Loss: 0.3760\n"
     ]
    },
    {
     "name": "stderr",
     "output_type": "stream",
     "text": [
      "Epoch 74/100: 100%|██████████| 36/36 [00:10<00:00,  3.53it/s, loss=0.378]\n"
     ]
    },
    {
     "name": "stdout",
     "output_type": "stream",
     "text": [
      "[Epoch 74] Average Loss: 0.3751\n"
     ]
    },
    {
     "name": "stderr",
     "output_type": "stream",
     "text": [
      "Epoch 75/100: 100%|██████████| 36/36 [00:10<00:00,  3.52it/s, loss=0.375]\n"
     ]
    },
    {
     "name": "stdout",
     "output_type": "stream",
     "text": [
      "[Epoch 75] Average Loss: 0.3741\n"
     ]
    },
    {
     "name": "stderr",
     "output_type": "stream",
     "text": [
      "Epoch 76/100: 100%|██████████| 36/36 [00:10<00:00,  3.53it/s, loss=0.363]\n"
     ]
    },
    {
     "name": "stdout",
     "output_type": "stream",
     "text": [
      "[Epoch 76] Average Loss: 0.3732\n"
     ]
    },
    {
     "name": "stderr",
     "output_type": "stream",
     "text": [
      "Epoch 77/100: 100%|██████████| 36/36 [00:10<00:00,  3.53it/s, loss=0.405]\n"
     ]
    },
    {
     "name": "stdout",
     "output_type": "stream",
     "text": [
      "[Epoch 77] Average Loss: 0.3736\n"
     ]
    },
    {
     "name": "stderr",
     "output_type": "stream",
     "text": [
      "Epoch 78/100: 100%|██████████| 36/36 [00:10<00:00,  3.52it/s, loss=0.381]\n"
     ]
    },
    {
     "name": "stdout",
     "output_type": "stream",
     "text": [
      "[Epoch 78] Average Loss: 0.3725\n"
     ]
    },
    {
     "name": "stderr",
     "output_type": "stream",
     "text": [
      "Epoch 79/100: 100%|██████████| 36/36 [00:10<00:00,  3.53it/s, loss=0.376]\n"
     ]
    },
    {
     "name": "stdout",
     "output_type": "stream",
     "text": [
      "[Epoch 79] Average Loss: 0.3715\n"
     ]
    },
    {
     "name": "stderr",
     "output_type": "stream",
     "text": [
      "Epoch 80/100: 100%|██████████| 36/36 [00:10<00:00,  3.53it/s, loss=0.367]\n"
     ]
    },
    {
     "name": "stdout",
     "output_type": "stream",
     "text": [
      "[Epoch 80] Average Loss: 0.3710\n"
     ]
    },
    {
     "name": "stderr",
     "output_type": "stream",
     "text": [
      "Epoch 81/100: 100%|██████████| 36/36 [00:10<00:00,  3.52it/s, loss=0.381]\n"
     ]
    },
    {
     "name": "stdout",
     "output_type": "stream",
     "text": [
      "[Epoch 81] Average Loss: 0.3707\n"
     ]
    },
    {
     "name": "stderr",
     "output_type": "stream",
     "text": [
      "Epoch 82/100: 100%|██████████| 36/36 [00:10<00:00,  3.52it/s, loss=0.379]\n"
     ]
    },
    {
     "name": "stdout",
     "output_type": "stream",
     "text": [
      "[Epoch 82] Average Loss: 0.3702\n"
     ]
    },
    {
     "name": "stderr",
     "output_type": "stream",
     "text": [
      "Epoch 83/100: 100%|██████████| 36/36 [00:10<00:00,  3.53it/s, loss=0.34] \n"
     ]
    },
    {
     "name": "stdout",
     "output_type": "stream",
     "text": [
      "[Epoch 83] Average Loss: 0.3691\n"
     ]
    },
    {
     "name": "stderr",
     "output_type": "stream",
     "text": [
      "Epoch 84/100: 100%|██████████| 36/36 [00:10<00:00,  3.53it/s, loss=0.333]\n"
     ]
    },
    {
     "name": "stdout",
     "output_type": "stream",
     "text": [
      "[Epoch 84] Average Loss: 0.3685\n"
     ]
    },
    {
     "name": "stderr",
     "output_type": "stream",
     "text": [
      "Epoch 85/100: 100%|██████████| 36/36 [00:10<00:00,  3.53it/s, loss=0.357]\n"
     ]
    },
    {
     "name": "stdout",
     "output_type": "stream",
     "text": [
      "[Epoch 85] Average Loss: 0.3687\n"
     ]
    },
    {
     "name": "stderr",
     "output_type": "stream",
     "text": [
      "Epoch 86/100: 100%|██████████| 36/36 [00:10<00:00,  3.52it/s, loss=0.378]\n"
     ]
    },
    {
     "name": "stdout",
     "output_type": "stream",
     "text": [
      "[Epoch 86] Average Loss: 0.3687\n"
     ]
    },
    {
     "name": "stderr",
     "output_type": "stream",
     "text": [
      "Epoch 87/100: 100%|██████████| 36/36 [00:10<00:00,  3.53it/s, loss=0.418]\n"
     ]
    },
    {
     "name": "stdout",
     "output_type": "stream",
     "text": [
      "[Epoch 87] Average Loss: 0.3693\n"
     ]
    },
    {
     "name": "stderr",
     "output_type": "stream",
     "text": [
      "Epoch 88/100: 100%|██████████| 36/36 [00:10<00:00,  3.53it/s, loss=0.324]\n"
     ]
    },
    {
     "name": "stdout",
     "output_type": "stream",
     "text": [
      "[Epoch 88] Average Loss: 0.3672\n"
     ]
    },
    {
     "name": "stderr",
     "output_type": "stream",
     "text": [
      "Epoch 89/100: 100%|██████████| 36/36 [00:10<00:00,  3.54it/s, loss=0.381]\n"
     ]
    },
    {
     "name": "stdout",
     "output_type": "stream",
     "text": [
      "[Epoch 89] Average Loss: 0.3681\n"
     ]
    },
    {
     "name": "stderr",
     "output_type": "stream",
     "text": [
      "Epoch 90/100: 100%|██████████| 36/36 [00:10<00:00,  3.54it/s, loss=0.398]\n"
     ]
    },
    {
     "name": "stdout",
     "output_type": "stream",
     "text": [
      "[Epoch 90] Average Loss: 0.3682\n"
     ]
    },
    {
     "name": "stderr",
     "output_type": "stream",
     "text": [
      "Epoch 91/100: 100%|██████████| 36/36 [00:10<00:00,  3.53it/s, loss=0.384]\n"
     ]
    },
    {
     "name": "stdout",
     "output_type": "stream",
     "text": [
      "[Epoch 91] Average Loss: 0.3677\n"
     ]
    },
    {
     "name": "stderr",
     "output_type": "stream",
     "text": [
      "Epoch 92/100: 100%|██████████| 36/36 [00:10<00:00,  3.52it/s, loss=0.376]\n"
     ]
    },
    {
     "name": "stdout",
     "output_type": "stream",
     "text": [
      "[Epoch 92] Average Loss: 0.3674\n"
     ]
    },
    {
     "name": "stderr",
     "output_type": "stream",
     "text": [
      "Epoch 93/100: 100%|██████████| 36/36 [00:10<00:00,  3.54it/s, loss=0.398]"
     ]
    },
    {
     "name": "stdout",
     "output_type": "stream",
     "text": [
      "[Epoch 93] Average Loss: 0.3677\n",
      "Early stopping!\n"
     ]
    },
    {
     "name": "stderr",
     "output_type": "stream",
     "text": [
      "\n"
     ]
    }
   ],
   "source": [
    "dataset = MIDITokenDataset(token_seqs)\n",
    "model = MiniLLaMA(vocab_size)\n",
    "trainer = Pipeline(model, dataset, vocab_size,epochs=100)\n",
    "trainer.train(epochs=100)"
   ]
  },
  {
   "cell_type": "code",
   "execution_count": 78,
   "id": "94c26d96-9375-4d41-8d64-ebab6aff3c3a",
   "metadata": {},
   "outputs": [
    {
     "data": {
      "text/plain": [
       "MiniLLaMA(\n",
       "  (token_emb): Embedding(489, 256)\n",
       "  (pos_emb): RotaryEmbedding()\n",
       "  (blocks): ModuleList(\n",
       "    (0-3): 4 x DecoderBlock(\n",
       "      (norm1): RMSNorm()\n",
       "      (attn): Attention(\n",
       "        (qkv): Linear(in_features=256, out_features=768, bias=True)\n",
       "        (out): Linear(in_features=256, out_features=256, bias=True)\n",
       "      )\n",
       "      (norm2): RMSNorm()\n",
       "      (ff): SwiGLUFeedForward(\n",
       "        (w1): Linear(in_features=256, out_features=1024, bias=True)\n",
       "        (w2): Linear(in_features=256, out_features=1024, bias=True)\n",
       "        (activation): Swish()\n",
       "        (proj): Linear(in_features=1024, out_features=256, bias=True)\n",
       "      )\n",
       "    )\n",
       "  )\n",
       "  (norm): RMSNorm()\n",
       "  (output): Linear(in_features=256, out_features=489, bias=True)\n",
       ")"
      ]
     },
     "execution_count": 78,
     "metadata": {},
     "output_type": "execute_result"
    }
   ],
   "source": [
    "model = MiniLLaMA(vocab_size)\n",
    "model.load_state_dict(torch.load(\"bestmusicLLaMA.pt\", map_location='cpu'))\n",
    "model.eval()"
   ]
  },
  {
   "cell_type": "code",
   "execution_count": 52,
   "id": "a3d2aa93-f578-4ba2-a271-15335c69396a",
   "metadata": {},
   "outputs": [],
   "source": [
    "def generate_with_temperature(model, start_token, max_length=100, temperature=1.0, eos_token=None):\n",
    "    model.eval()\n",
    "    tokens = [start_token]\n",
    "    input_ids = torch.tensor([tokens]).long() \n",
    "    \n",
    "    for _ in range(max_length):\n",
    "        with torch.no_grad():\n",
    "            logits = model(input_ids)  \n",
    "            next_token_logits = logits[0, -1] / temperature\n",
    "            probs = F.softmax(next_token_logits, dim=-1)\n",
    "            next_token = torch.multinomial(probs, num_samples=1).item()\n",
    "\n",
    "        tokens.append(next_token)\n",
    "        input_ids = torch.tensor([tokens]).long()\n",
    "        \n",
    "        if eos_token is not None and next_token == eos_token:\n",
    "            break\n",
    "\n",
    "    return tokens"
   ]
  },
  {
   "cell_type": "code",
   "execution_count": 60,
   "id": "e6cf7ba3-c71c-431d-98fd-77c57d3c0e21",
   "metadata": {},
   "outputs": [],
   "source": [
    "start_token = tokenizer.vocab[\"Bar_None\"]\n",
    "tokens = generate_with_temperature(\n",
    "    model,\n",
    "    start_token=start_token,  \n",
    "    max_length=1024,\n",
    "    temperature=1.0,\n",
    "    eos_token=None  \n",
    ")"
   ]
  },
  {
   "cell_type": "code",
   "execution_count": 68,
   "id": "1cde51c4-47f9-45ac-9d05-c92b2aeba602",
   "metadata": {},
   "outputs": [],
   "source": [
    "temperatures = [0.75, 1, 1.25]\n",
    "for temperature in temperatures:\n",
    "    tokens = generate_with_temperature(\n",
    "    model,\n",
    "    start_token=start_token,  \n",
    "    max_length=512,\n",
    "    temperature=temperature,\n",
    "    eos_token=None  \n",
    "    )\n",
    "    tok_seq = TokSequence(ids=tokens)\n",
    "\n",
    "    score = tokenizer.decode(tok_seq)\n",
    "    score.dump_midi(f\"generated_remi_{temperature:.2f}.mid\")"
   ]
  },
  {
   "cell_type": "code",
   "execution_count": 80,
   "id": "bf6faa32-6419-4827-b316-a6bce814484f",
   "metadata": {},
   "outputs": [],
   "source": [
    "tokens = generate_with_temperature(\n",
    "    model,\n",
    "    start_token=start_token,  \n",
    "    max_length=512,\n",
    "    temperature=1.0,\n",
    "    eos_token=None  \n",
    "    )\n",
    "tok_seq = TokSequence(ids=tokens)\n",
    "\n",
    "score = tokenizer.decode(tok_seq)\n",
    "score.dump_midi(f\"generated.mid\")"
   ]
  },
  {
   "cell_type": "code",
   "execution_count": null,
   "id": "49f8a6fa-1c3b-4544-8d78-05707675096d",
   "metadata": {},
   "outputs": [],
   "source": []
  }
 ],
 "metadata": {
  "kernelspec": {
   "display_name": "mykernel",
   "language": "python",
   "name": "mykernel"
  },
  "language_info": {
   "codemirror_mode": {
    "name": "ipython",
    "version": 3
   },
   "file_extension": ".py",
   "mimetype": "text/x-python",
   "name": "python",
   "nbconvert_exporter": "python",
   "pygments_lexer": "ipython3",
   "version": "3.11.9"
  }
 },
 "nbformat": 4,
 "nbformat_minor": 5
}
